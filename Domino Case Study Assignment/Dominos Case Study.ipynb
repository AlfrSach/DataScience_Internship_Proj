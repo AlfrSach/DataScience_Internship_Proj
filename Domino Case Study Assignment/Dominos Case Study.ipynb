{
 "cells": [
  {
   "cell_type": "markdown",
   "id": "2763da1d",
   "metadata": {},
   "source": [
    "## Problem Statement\n",
    "\n",
    "Kanav has started his own Pizza Store by getting the Franchise from the popular Pizza brand Diminos. \n",
    "Diminos promises to deliver the pizza order within 31 minutes from the time the order was placed. Otherwise the pizza will be free for the customer.\n",
    "In order to increase the revenue and profits Kanav is running the store 24 * 7.\n",
    "Recently Diminos gave a notice to Kanav that they will be measuring their stores' performance by looking at the metric - which is 95th Percentile on Order Delivery time should be less than 31 mins.\n",
    "Kanav is worried that he might lose the franchise if he is not able to meet the metric and wants your help in order to understand his store's performance so that he can take some actions to prevent his business. "
   ]
  },
  {
   "cell_type": "code",
   "execution_count": 41,
   "id": "65b9e40b",
   "metadata": {},
   "outputs": [],
   "source": [
    "import pandas as pd"
   ]
  },
  {
   "cell_type": "code",
   "execution_count": 42,
   "id": "cddebd66",
   "metadata": {},
   "outputs": [],
   "source": [
    "df = pd.read_csv(r\"D:\\Data Science\\Innomatics Internship\\Data Analysis\\Domino Case Study Assignment\\diminos_data.csv\")"
   ]
  },
  {
   "cell_type": "code",
   "execution_count": 43,
   "id": "a51c447d",
   "metadata": {},
   "outputs": [
    {
     "data": {
      "text/html": [
       "<div>\n",
       "<style scoped>\n",
       "    .dataframe tbody tr th:only-of-type {\n",
       "        vertical-align: middle;\n",
       "    }\n",
       "\n",
       "    .dataframe tbody tr th {\n",
       "        vertical-align: top;\n",
       "    }\n",
       "\n",
       "    .dataframe thead th {\n",
       "        text-align: right;\n",
       "    }\n",
       "</style>\n",
       "<table border=\"1\" class=\"dataframe\">\n",
       "  <thead>\n",
       "    <tr style=\"text-align: right;\">\n",
       "      <th></th>\n",
       "      <th>order_id</th>\n",
       "      <th>order_placed_at</th>\n",
       "      <th>order_delivered_at</th>\n",
       "    </tr>\n",
       "  </thead>\n",
       "  <tbody>\n",
       "    <tr>\n",
       "      <th>0</th>\n",
       "      <td>1523111</td>\n",
       "      <td>2023-03-01 00:00:59</td>\n",
       "      <td>2023-03-01 00:18:07.443132</td>\n",
       "    </tr>\n",
       "    <tr>\n",
       "      <th>1</th>\n",
       "      <td>1523112</td>\n",
       "      <td>2023-03-01 00:03:59</td>\n",
       "      <td>2023-03-01 00:19:34.925241</td>\n",
       "    </tr>\n",
       "    <tr>\n",
       "      <th>2</th>\n",
       "      <td>1523113</td>\n",
       "      <td>2023-03-01 00:07:22</td>\n",
       "      <td>2023-03-01 00:22:28.291385</td>\n",
       "    </tr>\n",
       "    <tr>\n",
       "      <th>3</th>\n",
       "      <td>1523114</td>\n",
       "      <td>2023-03-01 00:07:47</td>\n",
       "      <td>2023-03-01 00:46:19.019399</td>\n",
       "    </tr>\n",
       "    <tr>\n",
       "      <th>4</th>\n",
       "      <td>1523115</td>\n",
       "      <td>2023-03-01 00:09:03</td>\n",
       "      <td>2023-03-01 00:25:13.619056</td>\n",
       "    </tr>\n",
       "    <tr>\n",
       "      <th>...</th>\n",
       "      <td>...</td>\n",
       "      <td>...</td>\n",
       "      <td>...</td>\n",
       "    </tr>\n",
       "    <tr>\n",
       "      <th>14995</th>\n",
       "      <td>1538106</td>\n",
       "      <td>2023-03-27 23:37:05</td>\n",
       "      <td>2023-03-27 23:52:37.409378</td>\n",
       "    </tr>\n",
       "    <tr>\n",
       "      <th>14996</th>\n",
       "      <td>1538107</td>\n",
       "      <td>2023-03-27 23:47:38</td>\n",
       "      <td>2023-03-28 00:04:22.672912</td>\n",
       "    </tr>\n",
       "    <tr>\n",
       "      <th>14997</th>\n",
       "      <td>1538108</td>\n",
       "      <td>2023-03-27 23:50:16</td>\n",
       "      <td>2023-03-28 00:05:40.676238</td>\n",
       "    </tr>\n",
       "    <tr>\n",
       "      <th>14998</th>\n",
       "      <td>1538109</td>\n",
       "      <td>2023-03-27 23:52:44</td>\n",
       "      <td>2023-03-28 00:08:41.810358</td>\n",
       "    </tr>\n",
       "    <tr>\n",
       "      <th>14999</th>\n",
       "      <td>1538110</td>\n",
       "      <td>2023-03-27 23:58:20</td>\n",
       "      <td>2023-03-28 00:13:42.499311</td>\n",
       "    </tr>\n",
       "  </tbody>\n",
       "</table>\n",
       "<p>15000 rows × 3 columns</p>\n",
       "</div>"
      ],
      "text/plain": [
       "       order_id      order_placed_at          order_delivered_at\n",
       "0       1523111  2023-03-01 00:00:59  2023-03-01 00:18:07.443132\n",
       "1       1523112  2023-03-01 00:03:59  2023-03-01 00:19:34.925241\n",
       "2       1523113  2023-03-01 00:07:22  2023-03-01 00:22:28.291385\n",
       "3       1523114  2023-03-01 00:07:47  2023-03-01 00:46:19.019399\n",
       "4       1523115  2023-03-01 00:09:03  2023-03-01 00:25:13.619056\n",
       "...         ...                  ...                         ...\n",
       "14995   1538106  2023-03-27 23:37:05  2023-03-27 23:52:37.409378\n",
       "14996   1538107  2023-03-27 23:47:38  2023-03-28 00:04:22.672912\n",
       "14997   1538108  2023-03-27 23:50:16  2023-03-28 00:05:40.676238\n",
       "14998   1538109  2023-03-27 23:52:44  2023-03-28 00:08:41.810358\n",
       "14999   1538110  2023-03-27 23:58:20  2023-03-28 00:13:42.499311\n",
       "\n",
       "[15000 rows x 3 columns]"
      ]
     },
     "execution_count": 43,
     "metadata": {},
     "output_type": "execute_result"
    }
   ],
   "source": [
    "df"
   ]
  },
  {
   "cell_type": "code",
   "execution_count": 44,
   "id": "4b0d2e66",
   "metadata": {},
   "outputs": [
    {
     "name": "stdout",
     "output_type": "stream",
     "text": [
      "<class 'pandas.core.frame.DataFrame'>\n",
      "RangeIndex: 15000 entries, 0 to 14999\n",
      "Data columns (total 3 columns):\n",
      " #   Column              Non-Null Count  Dtype \n",
      "---  ------              --------------  ----- \n",
      " 0   order_id            15000 non-null  int64 \n",
      " 1   order_placed_at     15000 non-null  object\n",
      " 2   order_delivered_at  15000 non-null  object\n",
      "dtypes: int64(1), object(2)\n",
      "memory usage: 351.7+ KB\n"
     ]
    }
   ],
   "source": [
    " df.info()"
   ]
  },
  {
   "cell_type": "code",
   "execution_count": 45,
   "id": "6678145a",
   "metadata": {},
   "outputs": [],
   "source": [
    "df[\"order_placed_at\"] = pd.to_datetime(df[\"order_placed_at\"])\n",
    "df[\"order_delivered_at\"] = pd.to_datetime(df[\"order_delivered_at\"])"
   ]
  },
  {
   "cell_type": "code",
   "execution_count": 46,
   "id": "d885c62b",
   "metadata": {},
   "outputs": [],
   "source": [
    "df[\"day_of_month\"] = df[\"order_placed_at\"].dt.day"
   ]
  },
  {
   "cell_type": "code",
   "execution_count": 47,
   "id": "9d241f23",
   "metadata": {},
   "outputs": [],
   "source": [
    "df[\"day_of_week\"] = df[\"order_placed_at\"].dt.day_name()"
   ]
  },
  {
   "cell_type": "code",
   "execution_count": 48,
   "id": "2ee1b622",
   "metadata": {},
   "outputs": [
    {
     "data": {
      "text/html": [
       "<div>\n",
       "<style scoped>\n",
       "    .dataframe tbody tr th:only-of-type {\n",
       "        vertical-align: middle;\n",
       "    }\n",
       "\n",
       "    .dataframe tbody tr th {\n",
       "        vertical-align: top;\n",
       "    }\n",
       "\n",
       "    .dataframe thead th {\n",
       "        text-align: right;\n",
       "    }\n",
       "</style>\n",
       "<table border=\"1\" class=\"dataframe\">\n",
       "  <thead>\n",
       "    <tr style=\"text-align: right;\">\n",
       "      <th></th>\n",
       "      <th>order_id</th>\n",
       "      <th>order_placed_at</th>\n",
       "      <th>order_delivered_at</th>\n",
       "      <th>day_of_month</th>\n",
       "      <th>day_of_week</th>\n",
       "    </tr>\n",
       "  </thead>\n",
       "  <tbody>\n",
       "    <tr>\n",
       "      <th>0</th>\n",
       "      <td>1523111</td>\n",
       "      <td>2023-03-01 00:00:59</td>\n",
       "      <td>2023-03-01 00:18:07.443132</td>\n",
       "      <td>1</td>\n",
       "      <td>Wednesday</td>\n",
       "    </tr>\n",
       "    <tr>\n",
       "      <th>1</th>\n",
       "      <td>1523112</td>\n",
       "      <td>2023-03-01 00:03:59</td>\n",
       "      <td>2023-03-01 00:19:34.925241</td>\n",
       "      <td>1</td>\n",
       "      <td>Wednesday</td>\n",
       "    </tr>\n",
       "    <tr>\n",
       "      <th>2</th>\n",
       "      <td>1523113</td>\n",
       "      <td>2023-03-01 00:07:22</td>\n",
       "      <td>2023-03-01 00:22:28.291385</td>\n",
       "      <td>1</td>\n",
       "      <td>Wednesday</td>\n",
       "    </tr>\n",
       "    <tr>\n",
       "      <th>3</th>\n",
       "      <td>1523114</td>\n",
       "      <td>2023-03-01 00:07:47</td>\n",
       "      <td>2023-03-01 00:46:19.019399</td>\n",
       "      <td>1</td>\n",
       "      <td>Wednesday</td>\n",
       "    </tr>\n",
       "    <tr>\n",
       "      <th>4</th>\n",
       "      <td>1523115</td>\n",
       "      <td>2023-03-01 00:09:03</td>\n",
       "      <td>2023-03-01 00:25:13.619056</td>\n",
       "      <td>1</td>\n",
       "      <td>Wednesday</td>\n",
       "    </tr>\n",
       "  </tbody>\n",
       "</table>\n",
       "</div>"
      ],
      "text/plain": [
       "   order_id     order_placed_at         order_delivered_at  day_of_month  \\\n",
       "0   1523111 2023-03-01 00:00:59 2023-03-01 00:18:07.443132             1   \n",
       "1   1523112 2023-03-01 00:03:59 2023-03-01 00:19:34.925241             1   \n",
       "2   1523113 2023-03-01 00:07:22 2023-03-01 00:22:28.291385             1   \n",
       "3   1523114 2023-03-01 00:07:47 2023-03-01 00:46:19.019399             1   \n",
       "4   1523115 2023-03-01 00:09:03 2023-03-01 00:25:13.619056             1   \n",
       "\n",
       "  day_of_week  \n",
       "0   Wednesday  \n",
       "1   Wednesday  \n",
       "2   Wednesday  \n",
       "3   Wednesday  \n",
       "4   Wednesday  "
      ]
     },
     "execution_count": 48,
     "metadata": {},
     "output_type": "execute_result"
    }
   ],
   "source": [
    "df.head()"
   ]
  },
  {
   "cell_type": "code",
   "execution_count": 49,
   "id": "1c9700c3",
   "metadata": {},
   "outputs": [
    {
     "data": {
      "text/plain": [
       "20    597\n",
       "22    591\n",
       "2     588\n",
       "10    587\n",
       "23    583\n",
       "6     582\n",
       "12    582\n",
       "8     578\n",
       "7     570\n",
       "4     567\n",
       "24    565\n",
       "9     564\n",
       "18    559\n",
       "27    551\n",
       "5     551\n",
       "1     550\n",
       "25    547\n",
       "16    545\n",
       "15    540\n",
       "17    537\n",
       "11    536\n",
       "3     534\n",
       "26    532\n",
       "19    526\n",
       "13    526\n",
       "21    520\n",
       "14    492\n",
       "Name: day_of_month, dtype: int64"
      ]
     },
     "execution_count": 49,
     "metadata": {},
     "output_type": "execute_result"
    }
   ],
   "source": [
    "df[\"day_of_month\"].value_counts()"
   ]
  },
  {
   "cell_type": "code",
   "execution_count": 50,
   "id": "0c3bf8b8",
   "metadata": {},
   "outputs": [
    {
     "data": {
      "text/plain": [
       "<AxesSubplot: >"
      ]
     },
     "execution_count": 50,
     "metadata": {},
     "output_type": "execute_result"
    },
    {
     "data": {
      "image/png": "[encoded data removed]",
      "text/plain": [
       "<Figure size 640x480 with 1 Axes>"
      ]
     },
     "metadata": {},
     "output_type": "display_data"
    }
   ],
   "source": [
    "df[\"day_of_month\"].value_counts().sort_index().plot(kind='barh')"
   ]
  },
  {
   "cell_type": "code",
   "execution_count": 51,
   "id": "9a5ba9da",
   "metadata": {},
   "outputs": [
    {
     "data": {
      "text/plain": [
       "<AxesSubplot: >"
      ]
     },
     "execution_count": 51,
     "metadata": {},
     "output_type": "execute_result"
    },
    {
     "data": {
      "image/png": "[encoded data removed]",
      "text/plain": [
       "<Figure size 640x480 with 1 Axes>"
      ]
     },
     "metadata": {},
     "output_type": "display_data"
    }
   ],
   "source": [
    "df[\"day_of_month\"].value_counts().sort_index().plot(kind='line')"
   ]
  },
  {
   "cell_type": "code",
   "execution_count": 52,
   "id": "775dc69b",
   "metadata": {},
   "outputs": [
    {
     "data": {
      "text/plain": [
       "Thursday     2280\n",
       "Wednesday    2259\n",
       "Monday       2256\n",
       "Friday       2223\n",
       "Saturday     2209\n",
       "Sunday       2191\n",
       "Tuesday      1582\n",
       "Name: day_of_week, dtype: int64"
      ]
     },
     "execution_count": 52,
     "metadata": {},
     "output_type": "execute_result"
    }
   ],
   "source": [
    "df[\"day_of_week\"].value_counts()"
   ]
  },
  {
   "cell_type": "code",
   "execution_count": 53,
   "id": "d3fa79c6",
   "metadata": {},
   "outputs": [
    {
     "data": {
      "text/plain": [
       "<AxesSubplot: >"
      ]
     },
     "execution_count": 53,
     "metadata": {},
     "output_type": "execute_result"
    },
    {
     "data": {
      "image/png": "[encoded data removed]",
      "text/plain": [
       "<Figure size 640x480 with 1 Axes>"
      ]
     },
     "metadata": {},
     "output_type": "display_data"
    }
   ],
   "source": [
    "df[\"day_of_week\"].value_counts().plot(kind='bar')"
   ]
  },
  {
   "cell_type": "code",
   "execution_count": 54,
   "id": "7b91a989",
   "metadata": {},
   "outputs": [
    {
     "data": {
      "text/html": [
       "<div>\n",
       "<style scoped>\n",
       "    .dataframe tbody tr th:only-of-type {\n",
       "        vertical-align: middle;\n",
       "    }\n",
       "\n",
       "    .dataframe tbody tr th {\n",
       "        vertical-align: top;\n",
       "    }\n",
       "\n",
       "    .dataframe thead th {\n",
       "        text-align: right;\n",
       "    }\n",
       "</style>\n",
       "<table border=\"1\" class=\"dataframe\">\n",
       "  <thead>\n",
       "    <tr style=\"text-align: right;\">\n",
       "      <th></th>\n",
       "      <th>order_id</th>\n",
       "      <th>order_placed_at</th>\n",
       "      <th>order_delivered_at</th>\n",
       "      <th>day_of_month</th>\n",
       "      <th>day_of_week</th>\n",
       "      <th>delivery_time</th>\n",
       "    </tr>\n",
       "  </thead>\n",
       "  <tbody>\n",
       "    <tr>\n",
       "      <th>0</th>\n",
       "      <td>1523111</td>\n",
       "      <td>2023-03-01 00:00:59</td>\n",
       "      <td>2023-03-01 00:18:07.443132</td>\n",
       "      <td>1</td>\n",
       "      <td>Wednesday</td>\n",
       "      <td>0 days 00:17:08.443132</td>\n",
       "    </tr>\n",
       "    <tr>\n",
       "      <th>1</th>\n",
       "      <td>1523112</td>\n",
       "      <td>2023-03-01 00:03:59</td>\n",
       "      <td>2023-03-01 00:19:34.925241</td>\n",
       "      <td>1</td>\n",
       "      <td>Wednesday</td>\n",
       "      <td>0 days 00:15:35.925241</td>\n",
       "    </tr>\n",
       "    <tr>\n",
       "      <th>2</th>\n",
       "      <td>1523113</td>\n",
       "      <td>2023-03-01 00:07:22</td>\n",
       "      <td>2023-03-01 00:22:28.291385</td>\n",
       "      <td>1</td>\n",
       "      <td>Wednesday</td>\n",
       "      <td>0 days 00:15:06.291385</td>\n",
       "    </tr>\n",
       "    <tr>\n",
       "      <th>3</th>\n",
       "      <td>1523114</td>\n",
       "      <td>2023-03-01 00:07:47</td>\n",
       "      <td>2023-03-01 00:46:19.019399</td>\n",
       "      <td>1</td>\n",
       "      <td>Wednesday</td>\n",
       "      <td>0 days 00:38:32.019399</td>\n",
       "    </tr>\n",
       "    <tr>\n",
       "      <th>4</th>\n",
       "      <td>1523115</td>\n",
       "      <td>2023-03-01 00:09:03</td>\n",
       "      <td>2023-03-01 00:25:13.619056</td>\n",
       "      <td>1</td>\n",
       "      <td>Wednesday</td>\n",
       "      <td>0 days 00:16:10.619056</td>\n",
       "    </tr>\n",
       "  </tbody>\n",
       "</table>\n",
       "</div>"
      ],
      "text/plain": [
       "   order_id     order_placed_at         order_delivered_at  day_of_month  \\\n",
       "0   1523111 2023-03-01 00:00:59 2023-03-01 00:18:07.443132             1   \n",
       "1   1523112 2023-03-01 00:03:59 2023-03-01 00:19:34.925241             1   \n",
       "2   1523113 2023-03-01 00:07:22 2023-03-01 00:22:28.291385             1   \n",
       "3   1523114 2023-03-01 00:07:47 2023-03-01 00:46:19.019399             1   \n",
       "4   1523115 2023-03-01 00:09:03 2023-03-01 00:25:13.619056             1   \n",
       "\n",
       "  day_of_week          delivery_time  \n",
       "0   Wednesday 0 days 00:17:08.443132  \n",
       "1   Wednesday 0 days 00:15:35.925241  \n",
       "2   Wednesday 0 days 00:15:06.291385  \n",
       "3   Wednesday 0 days 00:38:32.019399  \n",
       "4   Wednesday 0 days 00:16:10.619056  "
      ]
     },
     "execution_count": 54,
     "metadata": {},
     "output_type": "execute_result"
    }
   ],
   "source": [
    "df[\"delivery_time\"] = df[\"order_delivered_at\"] - df[\"order_placed_at\"]\n",
    "df.head()"
   ]
  },
  {
   "cell_type": "code",
   "execution_count": 55,
   "id": "61884ef5",
   "metadata": {},
   "outputs": [
    {
     "data": {
      "text/html": [
       "<div>\n",
       "<style scoped>\n",
       "    .dataframe tbody tr th:only-of-type {\n",
       "        vertical-align: middle;\n",
       "    }\n",
       "\n",
       "    .dataframe tbody tr th {\n",
       "        vertical-align: top;\n",
       "    }\n",
       "\n",
       "    .dataframe thead th {\n",
       "        text-align: right;\n",
       "    }\n",
       "</style>\n",
       "<table border=\"1\" class=\"dataframe\">\n",
       "  <thead>\n",
       "    <tr style=\"text-align: right;\">\n",
       "      <th></th>\n",
       "      <th>order_id</th>\n",
       "      <th>order_placed_at</th>\n",
       "      <th>order_delivered_at</th>\n",
       "      <th>day_of_month</th>\n",
       "      <th>day_of_week</th>\n",
       "      <th>delivery_time</th>\n",
       "    </tr>\n",
       "  </thead>\n",
       "  <tbody>\n",
       "    <tr>\n",
       "      <th>0</th>\n",
       "      <td>1523111</td>\n",
       "      <td>2023-03-01 00:00:59</td>\n",
       "      <td>2023-03-01 00:18:07.443132</td>\n",
       "      <td>1</td>\n",
       "      <td>Wednesday</td>\n",
       "      <td>17.140719</td>\n",
       "    </tr>\n",
       "    <tr>\n",
       "      <th>1</th>\n",
       "      <td>1523112</td>\n",
       "      <td>2023-03-01 00:03:59</td>\n",
       "      <td>2023-03-01 00:19:34.925241</td>\n",
       "      <td>1</td>\n",
       "      <td>Wednesday</td>\n",
       "      <td>15.598754</td>\n",
       "    </tr>\n",
       "    <tr>\n",
       "      <th>2</th>\n",
       "      <td>1523113</td>\n",
       "      <td>2023-03-01 00:07:22</td>\n",
       "      <td>2023-03-01 00:22:28.291385</td>\n",
       "      <td>1</td>\n",
       "      <td>Wednesday</td>\n",
       "      <td>15.104856</td>\n",
       "    </tr>\n",
       "    <tr>\n",
       "      <th>3</th>\n",
       "      <td>1523114</td>\n",
       "      <td>2023-03-01 00:07:47</td>\n",
       "      <td>2023-03-01 00:46:19.019399</td>\n",
       "      <td>1</td>\n",
       "      <td>Wednesday</td>\n",
       "      <td>38.533657</td>\n",
       "    </tr>\n",
       "    <tr>\n",
       "      <th>4</th>\n",
       "      <td>1523115</td>\n",
       "      <td>2023-03-01 00:09:03</td>\n",
       "      <td>2023-03-01 00:25:13.619056</td>\n",
       "      <td>1</td>\n",
       "      <td>Wednesday</td>\n",
       "      <td>16.176984</td>\n",
       "    </tr>\n",
       "  </tbody>\n",
       "</table>\n",
       "</div>"
      ],
      "text/plain": [
       "   order_id     order_placed_at         order_delivered_at  day_of_month  \\\n",
       "0   1523111 2023-03-01 00:00:59 2023-03-01 00:18:07.443132             1   \n",
       "1   1523112 2023-03-01 00:03:59 2023-03-01 00:19:34.925241             1   \n",
       "2   1523113 2023-03-01 00:07:22 2023-03-01 00:22:28.291385             1   \n",
       "3   1523114 2023-03-01 00:07:47 2023-03-01 00:46:19.019399             1   \n",
       "4   1523115 2023-03-01 00:09:03 2023-03-01 00:25:13.619056             1   \n",
       "\n",
       "  day_of_week  delivery_time  \n",
       "0   Wednesday      17.140719  \n",
       "1   Wednesday      15.598754  \n",
       "2   Wednesday      15.104856  \n",
       "3   Wednesday      38.533657  \n",
       "4   Wednesday      16.176984  "
      ]
     },
     "execution_count": 55,
     "metadata": {},
     "output_type": "execute_result"
    }
   ],
   "source": [
    "df[\"delivery_time\"] = df[\"delivery_time\"].dt.total_seconds() / 60\n",
    "df.head()"
   ]
  },
  {
   "cell_type": "code",
   "execution_count": 56,
   "id": "63a23d21",
   "metadata": {},
   "outputs": [
    {
     "data": {
      "text/plain": [
       "20.499389326467778"
      ]
     },
     "execution_count": 56,
     "metadata": {},
     "output_type": "execute_result"
    }
   ],
   "source": [
    "df[\"delivery_time\"].mean()"
   ]
  },
  {
   "cell_type": "code",
   "execution_count": 57,
   "id": "65f68646",
   "metadata": {},
   "outputs": [
    {
     "data": {
      "text/plain": [
       "15.797986066666667"
      ]
     },
     "execution_count": 57,
     "metadata": {},
     "output_type": "execute_result"
    }
   ],
   "source": [
    "df[\"delivery_time\"].median()"
   ]
  },
  {
   "cell_type": "code",
   "execution_count": 58,
   "id": "a1a02db1",
   "metadata": {},
   "outputs": [
    {
     "data": {
      "text/plain": [
       "96.16036180216469"
      ]
     },
     "execution_count": 58,
     "metadata": {},
     "output_type": "execute_result"
    }
   ],
   "source": [
    "df[\"delivery_time\"].std()"
   ]
  },
  {
   "cell_type": "code",
   "execution_count": 59,
   "id": "a9dc592e",
   "metadata": {},
   "outputs": [
    {
     "data": {
      "text/plain": [
       "15.274825995833332"
      ]
     },
     "execution_count": 59,
     "metadata": {},
     "output_type": "execute_result"
    }
   ],
   "source": [
    "df[\"delivery_time\"].quantile(0.25)"
   ]
  },
  {
   "cell_type": "code",
   "execution_count": 60,
   "id": "41528750",
   "metadata": {},
   "outputs": [
    {
     "data": {
      "text/plain": [
       "17.27966090416667"
      ]
     },
     "execution_count": 60,
     "metadata": {},
     "output_type": "execute_result"
    }
   ],
   "source": [
    "df[\"delivery_time\"].quantile(0.75)"
   ]
  },
  {
   "cell_type": "code",
   "execution_count": 61,
   "id": "3769bca7",
   "metadata": {},
   "outputs": [
    {
     "data": {
      "text/plain": [
       "<AxesSubplot: >"
      ]
     },
     "execution_count": 61,
     "metadata": {},
     "output_type": "execute_result"
    },
    {
     "data": {
      "image/png": "[encoded data removed]",
      "text/plain": [
       "<Figure size 640x480 with 1 Axes>"
      ]
     },
     "metadata": {},
     "output_type": "display_data"
    }
   ],
   "source": [
    "df[\"delivery_time\"].plot(kind='box')"
   ]
  },
  {
   "cell_type": "code",
   "execution_count": 62,
   "id": "ae3e510d",
   "metadata": {},
   "outputs": [
    {
     "data": {
      "text/plain": [
       "(557, 6)"
      ]
     },
     "execution_count": 62,
     "metadata": {},
     "output_type": "execute_result"
    }
   ],
   "source": [
    "df[df[\"delivery_time\"] > 31].shape"
   ]
  },
  {
   "cell_type": "code",
   "execution_count": 63,
   "id": "3cd1fd87",
   "metadata": {},
   "outputs": [
    {
     "data": {
      "text/plain": [
       "<AxesSubplot: >"
      ]
     },
     "execution_count": 63,
     "metadata": {},
     "output_type": "execute_result"
    },
    {
     "data": {
      "image/png": "[encoded data removed]",
      "text/plain": [
       "<Figure size 640x480 with 1 Axes>"
      ]
     },
     "metadata": {},
     "output_type": "display_data"
    }
   ],
   "source": [
    "df = df[df[\"delivery_time\"] < 40]\n",
    "df[\"delivery_time\"].plot(kind='box')"
   ]
  },
  {
   "cell_type": "code",
   "execution_count": 64,
   "id": "5695328f",
   "metadata": {},
   "outputs": [
    {
     "data": {
      "text/plain": [
       "23.596276583333314"
      ]
     },
     "execution_count": 64,
     "metadata": {},
     "output_type": "execute_result"
    }
   ],
   "source": [
    "df[\"delivery_time\"].quantile(0.95)"
   ]
  },
  {
   "cell_type": "code",
   "execution_count": 65,
   "id": "0fbdf6c8",
   "metadata": {},
   "outputs": [
    {
     "data": {
      "text/plain": [
       "(226, 6)"
      ]
     },
     "execution_count": 65,
     "metadata": {},
     "output_type": "execute_result"
    }
   ],
   "source": [
    "df[df[\"delivery_time\"] > 31].shape"
   ]
  },
  {
   "cell_type": "markdown",
   "id": "5ddc1f40",
   "metadata": {},
   "source": [
    "### Observations\n",
    "\n",
    "There were outliers which was affecting the data, more than 300 deliveries were above 40 mins and some even having 7000 mins.\n",
    "\n",
    "After reducing the outliers by removing deliveries more than 40 mins, it came around 226 deliveries, so in total 557 pizzas were given free because of not delivering in less than 31 mins.\n",
    "\n",
    "the 95th percentile after reducing the outliers was 23.59 mins which is good, but need to focus on delivery time overall since 557 free pizza is a huge loss for the franchise. "
   ]
  },
  {
   "cell_type": "code",
   "execution_count": null,
   "id": "aed0e7a1",
   "metadata": {},
   "outputs": [],
   "source": []
  }
 ],
 "metadata": {
  "kernelspec": {
   "display_name": "Python 3 (ipykernel)",
   "language": "python",
   "name": "python3"
  },
  "language_info": {
   "codemirror_mode": {
    "name": "ipython",
    "version": 3
   },
   "file_extension": ".py",
   "mimetype": "text/x-python",
   "name": "python",
   "nbconvert_exporter": "python",
   "pygments_lexer": "ipython3",
   "version": "3.9.16"
  }
 },
 "nbformat": 4,
 "nbformat_minor": 5
}
